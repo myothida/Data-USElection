{
 "cells": [
  {
   "cell_type": "code",
   "execution_count": null,
   "metadata": {},
   "outputs": [],
   "source": [
    "import matplotlib.pyplot as plt\n",
    "import pandas as pd"
   ]
  },
  {
   "cell_type": "markdown",
   "metadata": {},
   "source": [
    "#### Questions\n",
    "\n",
    "1. **How many columns are in the dataset? What does each column represent?**\n",
    "   - *Hint: Use `df.head(5)` or `df.info()` or `df.columns` to check the number of columns and their names.*\n",
    "\n",
    "2. **How many rows are in the dataset? What does each row represent?**\n",
    "   - *Hint: Use `df.shape` to find the number of rows. Think about what a single row of data indicates in the context of this dataset.*\n",
    "   \n",
    "3. **How many unique cities/towns are in Massachusetts in this dataset?**\n",
    "   - *Hint: Use `len(df['City_Town'].unique())` to find the answer. The result should be 351.*"
   ]
  },
  {
   "cell_type": "code",
   "execution_count": null,
   "metadata": {},
   "outputs": [],
   "source": [
    "### Loading/Reading data**\n",
    "df_raw = pd.read_csv('2020_President_MA.csv')\n",
    "\n",
    "## show the first 5 rows\n",
    "df_raw.head(5)\n",
    "\n",
    "## show the last 5 rows\n",
    "df_raw.tail(5)"
   ]
  },
  {
   "cell_type": "code",
   "execution_count": null,
   "metadata": {},
   "outputs": [],
   "source": [
    "## Cleaning data. Check nan vlaues \n",
    "df_raw.isna().sum()\n",
    "\n",
    "## Which columns/rows have missing values? Hint: We should remove two rows and two columns here. \n"
   ]
  },
  {
   "cell_type": "code",
   "execution_count": null,
   "metadata": {},
   "outputs": [],
   "source": [
    "### Remove two rows and two columns: replace with the names of the columns\n",
    "df_clean_cols = df_raw.drop(['col_name1', 'col_name2'], axis = 1)\n",
    "\n",
    "### Remove the row (change the row index) and check the results\n",
    "df = df_clean_cols.drop([id0, id1])\n",
    "df.head(5)"
   ]
  },
  {
   "cell_type": "code",
   "execution_count": null,
   "metadata": {},
   "outputs": [],
   "source": [
    "### Rename columnes for easy analysis\n",
    "df.columns = ['City_Town', 'Biden', 'Trump', 'Jorgensen', 'Hawkins', 'Others', 'No_Prefer', 'Blanks', 'Total']\n",
    "df.head(5)"
   ]
  },
  {
   "cell_type": "code",
   "execution_count": null,
   "metadata": {},
   "outputs": [],
   "source": [
    "### Check number of towns and City in MA\n",
    "### *Hint: Use `len(df['City_Town'].unique())` to find the answer. The result should be 351.*\n",
    "\n",
    "num_towns_city = len(df['City_Town'].unique())\n",
    "num_towns_city"
   ]
  },
  {
   "cell_type": "code",
   "execution_count": null,
   "metadata": {},
   "outputs": [],
   "source": [
    "## Before you do anything, remember to check the datatype and change if you need to\n",
    "columns_to_convert = ['Biden', 'Trump', 'Jorgensen', 'Hawkins', 'Others', 'Blanks', 'Total']\n",
    "\n",
    "# Using pd.to_numeric to convert columns to numeric types\n",
    "for column in columns_to_convert:\n",
    "    df[column] = df[column].str.replace(',', '') \n",
    "    df[column] = pd.to_numeric(df[column], errors='coerce')\n",
    "\n",
    "# check the result again\n",
    "df.info()\n"
   ]
  },
  {
   "cell_type": "markdown",
   "metadata": {},
   "source": [
    "## Statistical Analysis: Why am I removing the 'No_Prefer' column?\n",
    "*** - *Hint: Consider the significance of the 'No_Prefer' data in the context of the analysis.*\n",
    "\n",
    "## What observations can be made regarding Biden's vote distribution, given that the mean is approximately twice the median?\n",
    "- *Hint: Reflect on what it indicates about the distribution of votes for Biden, such as potential skewness and the presence of outliers.*"
   ]
  },
  {
   "cell_type": "code",
   "execution_count": null,
   "metadata": {},
   "outputs": [],
   "source": [
    "## Statistical Analysis\n",
    "\n",
    "df.describe()"
   ]
  },
  {
   "cell_type": "markdown",
   "metadata": {},
   "source": [
    "#### Questions\n",
    "\n",
    "1. **What percentage of the total votes did each candidate receive across all cities/towns?**\n",
    "   - *Hint: Use `vote_percentages = (df[['Biden', 'Trump', 'Jorgensen', 'Hawkins', 'Others']].sum() / df[['Biden', 'Trump', 'Jorgensen', 'Hawkins', 'Others']].sum().sum()) * 100` to calculate the percentage of total votes for each candidate.*   \n",
    "\n",
    "2. **Which city/town had the highest total number of votes cast?**\n",
    "   - *Hint: Use `df.loc[df['Total'].idxmax()]` to find the city/town with the highest total votes.*\n",
    "\n",
    "3. **What is the average number of votes received by each candidate across all cities/towns?**\n",
    "   - *Hint: Use `df[['Biden', 'Trump', 'Jorgensen', 'Hawkins', 'Others']].mean()` to find the average votes per candidate.*\n",
    "\n",
    "4. **How many cities/towns had more than 50% of the total votes for Biden?**\n",
    "   - *Hint: Use `df[df['Biden'] / df['Total'] > 0.5].shape[0]` to count the number of cities/towns.*\n",
    "\n",
    "5. **What is the distribution of Trump votes across all cities/towns?**\n",
    "   - *Hint: Use `df['Trump'].describe()` to analyze the distribution of Trump votes.*\n",
    "\n",
    "6. **Which candidate received the most votes in the city/town with the lowest voter turnout?**\n",
    "   - *Hint: Identify the city/town with the lowest `Total` votes, then check the vote counts for each candidate in that row.*"
   ]
  },
  {
   "cell_type": "code",
   "execution_count": null,
   "metadata": {},
   "outputs": [],
   "source": [
    "# Calculate the total votes for each candidate\n",
    "total_votes = df[['Biden', 'Trump', 'Jorgensen', 'Hawkins', 'Others']].sum()\n",
    "\n",
    "# Calculate the total votes across all candidates\n",
    "total_votes_sum = total_votes.sum()\n",
    "\n",
    "# Calculate percentage for each candidate\n",
    "vote_percentages = (total_votes / total_votes_sum) * 100\n",
    "\n",
    "# Plotting\n",
    "plt.figure(figsize=(10, 6))\n",
    "vote_percentages.plot(kind='bar', color=['#3E6D8D', '#E44D2C', '#F6E17C', '#7C9B4A', '#A8B9C8'])\n",
    "plt.title('Percentage of Total Votes for Each Candidate in 2020 US Presidential Election (MA)')\n",
    "plt.xlabel('Candidates')\n",
    "plt.ylabel('Percentage of Total Votes (%)')\n",
    "plt.xticks(rotation=45)\n",
    "plt.ylim(0, 100)  # Set y-axis limit to 100%\n",
    "plt.grid(axis='y')\n",
    "\n",
    "## does this graph represent your understanding about US Election in MA?"
   ]
  }
 ],
 "metadata": {
  "kernelspec": {
   "display_name": "Python 3",
   "language": "python",
   "name": "python3"
  },
  "language_info": {
   "codemirror_mode": {
    "name": "ipython",
    "version": 3
   },
   "file_extension": ".py",
   "mimetype": "text/x-python",
   "name": "python",
   "nbconvert_exporter": "python",
   "pygments_lexer": "ipython3",
   "version": "3.11.9"
  }
 },
 "nbformat": 4,
 "nbformat_minor": 2
}
